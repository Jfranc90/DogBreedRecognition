{
 "cells": [
  {
   "cell_type": "code",
   "execution_count": 41,
   "id": "faced-apparatus",
   "metadata": {},
   "outputs": [],
   "source": [
    "import pandas as pd\n",
    "import matplotlib.pyplot as plt\n",
    "import numpy as np\n",
    "from glob import glob\n",
    "import cv2\n",
    "#from sklearn.preprocessing import OneHotEncoder\n",
    "from sklearn.preprocessing import LabelEncoder\n",
    "import tensorflow as tf\n",
    "from sklearn.model_selection import train_test_split\n",
    "from tqdm import tqdm\n",
    "from keras.utils import np_utils\n",
    "from keras.models import Sequential\n",
    "from tensorflow.keras import layers\n",
    "from keras.wrappers.scikit_learn import KerasClassifier\n",
    "from sklearn.model_selection import GridSearchCV"
   ]
  },
  {
   "cell_type": "code",
   "execution_count": 42,
   "id": "practical-message",
   "metadata": {},
   "outputs": [],
   "source": [
    "#Grab the labels.csv file and load it into a pandas DataFrame\n",
    "labels_df = pd.read_csv(\"labels.csv\")\n",
    "#set constant for size of images when resizing\n",
    "IMAGE_SIZE = 224"
   ]
  },
  {
   "cell_type": "code",
   "execution_count": 43,
   "id": "integral-jungle",
   "metadata": {},
   "outputs": [],
   "source": [
    "#Grab the location of all the images in the 'train' folder\n",
    "image_ids = glob('train/*')\n",
    "#create a new column in the labels DataFrame, whose elements\n",
    "#are the location of the images in the 'train' folder\n",
    "labels_df['filename'] = image_ids\n",
    "#create a numpy array from the elements in the filename\n",
    "#column of the labels DataFrame\n",
    "np_ids = labels_df['filename'].to_numpy()"
   ]
  },
  {
   "cell_type": "code",
   "execution_count": 44,
   "id": "inappropriate-external",
   "metadata": {},
   "outputs": [],
   "source": [
    "#Create a LabelEncoder object\n",
    "label_enc = LabelEncoder()\n",
    "#Random Seed\n",
    "np.random.seed(seed=42)\n",
    "#Create a numpy array holding the name of the dog breeds\n",
    "labels_breed = labels_df['breed'].to_numpy()\n",
    "#Use the LabelEncoder instance to label encode the namne of\n",
    "#the dog breeds\n",
    "y = label_enc.fit_transform(labels_breed)"
   ]
  },
  {
   "cell_type": "code",
   "execution_count": 45,
   "id": "answering-aging",
   "metadata": {},
   "outputs": [],
   "source": [
    "#This function traverses a numpy array using\n",
    "#where each element in the numpy array\n",
    "#is a path to an image. The function reads the path\n",
    "#and grabs the image as an array of pixels, which is then\n",
    "#resized and appended to a list. That list is then used\n",
    "#create a new numpy array containing the resized pixel arrays\n",
    "#that is returned\n",
    "def read_dog_imgs(dog_np):\n",
    "    image_list = []\n",
    "    for i in tqdm(range(dog_np.size)):\n",
    "        path = dog_np[i]\n",
    "        img_arr = cv2.imread(path, cv2.IMREAD_GRAYSCALE)\n",
    "        img_arr = cv2.resize(img_arr,(IMAGE_SIZE,IMAGE_SIZE))\n",
    "        image_list.append(img_arr)\n",
    "    image_np = np.array(image_list).reshape(IMAGE_SIZE,IMAGE_SIZE)\n",
    "    return image_np"
   ]
  },
  {
   "cell_type": "code",
   "execution_count": 46,
   "id": "spoken-festival",
   "metadata": {},
   "outputs": [
    {
     "name": "stderr",
     "output_type": "stream",
     "text": [
      "100%|███████████████████████████████████████████████████████████████████████████| 10222/10222 [00:14<00:00, 713.81it/s]\n"
     ]
    },
    {
     "ename": "ValueError",
     "evalue": "cannot reshape array of size 512899072 into shape (224,224)",
     "output_type": "error",
     "traceback": [
      "\u001b[1;31m---------------------------------------------------------------------------\u001b[0m",
      "\u001b[1;31mValueError\u001b[0m                                Traceback (most recent call last)",
      "\u001b[1;32m<ipython-input-46-07d6128124ca>\u001b[0m in \u001b[0;36m<module>\u001b[1;34m\u001b[0m\n\u001b[0;32m      1\u001b[0m \u001b[1;31m#Use the read_dog_imgs function to convert all dog images paths\u001b[0m\u001b[1;33m\u001b[0m\u001b[1;33m\u001b[0m\u001b[1;33m\u001b[0m\u001b[0m\n\u001b[0;32m      2\u001b[0m \u001b[1;31m#into pixel_arrays\u001b[0m\u001b[1;33m\u001b[0m\u001b[1;33m\u001b[0m\u001b[1;33m\u001b[0m\u001b[0m\n\u001b[1;32m----> 3\u001b[1;33m \u001b[0mX\u001b[0m \u001b[1;33m=\u001b[0m \u001b[0mread_dog_imgs\u001b[0m\u001b[1;33m(\u001b[0m\u001b[0mnp_ids\u001b[0m\u001b[1;33m)\u001b[0m\u001b[1;33m\u001b[0m\u001b[1;33m\u001b[0m\u001b[0m\n\u001b[0m",
      "\u001b[1;32m<ipython-input-45-b05dcdd66a7b>\u001b[0m in \u001b[0;36mread_dog_imgs\u001b[1;34m(dog_np)\u001b[0m\n\u001b[0;32m     13\u001b[0m         \u001b[0mimg_arr\u001b[0m \u001b[1;33m=\u001b[0m \u001b[0mcv2\u001b[0m\u001b[1;33m.\u001b[0m\u001b[0mresize\u001b[0m\u001b[1;33m(\u001b[0m\u001b[0mimg_arr\u001b[0m\u001b[1;33m,\u001b[0m\u001b[1;33m(\u001b[0m\u001b[0mIMAGE_SIZE\u001b[0m\u001b[1;33m,\u001b[0m\u001b[0mIMAGE_SIZE\u001b[0m\u001b[1;33m)\u001b[0m\u001b[1;33m)\u001b[0m\u001b[1;33m\u001b[0m\u001b[1;33m\u001b[0m\u001b[0m\n\u001b[0;32m     14\u001b[0m         \u001b[0mimage_list\u001b[0m\u001b[1;33m.\u001b[0m\u001b[0mappend\u001b[0m\u001b[1;33m(\u001b[0m\u001b[0mimg_arr\u001b[0m\u001b[1;33m)\u001b[0m\u001b[1;33m\u001b[0m\u001b[1;33m\u001b[0m\u001b[0m\n\u001b[1;32m---> 15\u001b[1;33m     \u001b[0mimage_np\u001b[0m \u001b[1;33m=\u001b[0m \u001b[0mnp\u001b[0m\u001b[1;33m.\u001b[0m\u001b[0marray\u001b[0m\u001b[1;33m(\u001b[0m\u001b[0mimage_list\u001b[0m\u001b[1;33m)\u001b[0m\u001b[1;33m.\u001b[0m\u001b[0mreshape\u001b[0m\u001b[1;33m(\u001b[0m\u001b[0mIMAGE_SIZE\u001b[0m\u001b[1;33m,\u001b[0m\u001b[0mIMAGE_SIZE\u001b[0m\u001b[1;33m)\u001b[0m\u001b[1;33m\u001b[0m\u001b[1;33m\u001b[0m\u001b[0m\n\u001b[0m\u001b[0;32m     16\u001b[0m     \u001b[1;32mreturn\u001b[0m \u001b[0mimage_np\u001b[0m\u001b[1;33m\u001b[0m\u001b[1;33m\u001b[0m\u001b[0m\n",
      "\u001b[1;31mValueError\u001b[0m: cannot reshape array of size 512899072 into shape (224,224)"
     ]
    }
   ],
   "source": [
    "#Use the read_dog_imgs function to convert all dog images paths\n",
    "#into pixel_arrays\n",
    "X = read_dog_imgs(np_ids)"
   ]
  },
  {
   "cell_type": "code",
   "execution_count": null,
   "id": "reasonable-ethernet",
   "metadata": {},
   "outputs": [],
   "source": [
    "#normalize X\n",
    "X = X / 255.0"
   ]
  },
  {
   "cell_type": "code",
   "execution_count": null,
   "id": "opposite-longer",
   "metadata": {},
   "outputs": [],
   "source": [
    "print(X[0])"
   ]
  },
  {
   "cell_type": "code",
   "execution_count": null,
   "id": "alert-startup",
   "metadata": {},
   "outputs": [],
   "source": [
    "print(y[0])"
   ]
  },
  {
   "cell_type": "code",
   "execution_count": null,
   "id": "suspended-blackjack",
   "metadata": {},
   "outputs": [],
   "source": [
    "plt.imshow(X[0], cmap = 'gray')\n",
    "plt.show()"
   ]
  },
  {
   "cell_type": "code",
   "execution_count": null,
   "id": "qualified-meter",
   "metadata": {},
   "outputs": [],
   "source": []
  }
 ],
 "metadata": {
  "kernelspec": {
   "display_name": "Python 3",
   "language": "python",
   "name": "python3"
  },
  "language_info": {
   "codemirror_mode": {
    "name": "ipython",
    "version": 3
   },
   "file_extension": ".py",
   "mimetype": "text/x-python",
   "name": "python",
   "nbconvert_exporter": "python",
   "pygments_lexer": "ipython3",
   "version": "3.8.0"
  }
 },
 "nbformat": 4,
 "nbformat_minor": 5
}
