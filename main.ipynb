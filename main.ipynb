{
 "cells": [
  {
   "cell_type": "code",
   "execution_count": 182,
   "id": "final-undergraduate",
   "metadata": {},
   "outputs": [],
   "source": [
    "import pandas as pd\n",
    "import numpy as np\n",
    "from glob import glob\n",
    "#from sklearn.preprocessing import OneHotEncoder\n",
    "from sklearn.preprocessing import LabelEncoder\n",
    "\n",
    "from sklearn.model_selection import train_test_split"
   ]
  },
  {
   "cell_type": "code",
   "execution_count": 184,
   "id": "occasional-affairs",
   "metadata": {},
   "outputs": [],
   "source": [
    "labels_df = pd.read_csv(\"labels.csv\")"
   ]
  },
  {
   "cell_type": "code",
   "execution_count": 185,
   "id": "burning-albany",
   "metadata": {},
   "outputs": [],
   "source": [
    "image_ids = glob('train/*')\n",
    "labels_df['filename'] = image_ids\n",
    "np_ids = labels_df['filename'].to_numpy()"
   ]
  },
  {
   "cell_type": "code",
   "execution_count": 186,
   "id": "modified-boards",
   "metadata": {},
   "outputs": [],
   "source": [
    "label_enc = LabelEncoder()\n",
    "np.random.seed(seed=42)\n",
    "labels_breed = labels_df['breed'].to_numpy()\n",
    "labels_breed = label_enc.fit_transform(labels_breed)"
   ]
  },
  {
   "cell_type": "code",
   "execution_count": 188,
   "id": "selective-greene",
   "metadata": {},
   "outputs": [],
   "source": [
    "X_train, X_test = train_test_split(np_ids,test_size = 0.25,random_state=42)\n",
    "y_train, y_test = train_test_split(labels_breed, test_size = 0.25, random_state=42)"
   ]
  },
  {
   "cell_type": "code",
   "execution_count": 181,
   "id": "charged-subscriber",
   "metadata": {},
   "outputs": [
    {
     "name": "stdout",
     "output_type": "stream",
     "text": [
      "<class 'numpy.ndarray'>\n",
      "<class 'numpy.ndarray'>\n"
     ]
    }
   ],
   "source": [
    "print(type(X_train))\n",
    "print(type(y_train))"
   ]
  },
  {
   "cell_type": "code",
   "execution_count": null,
   "id": "undefined-latitude",
   "metadata": {},
   "outputs": [],
   "source": []
  }
 ],
 "metadata": {
  "kernelspec": {
   "display_name": "Python 3",
   "language": "python",
   "name": "python3"
  },
  "language_info": {
   "codemirror_mode": {
    "name": "ipython",
    "version": 3
   },
   "file_extension": ".py",
   "mimetype": "text/x-python",
   "name": "python",
   "nbconvert_exporter": "python",
   "pygments_lexer": "ipython3",
   "version": "3.8.0"
  }
 },
 "nbformat": 4,
 "nbformat_minor": 5
}
