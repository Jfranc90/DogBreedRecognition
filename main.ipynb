{
 "cells": [
  {
   "cell_type": "code",
   "execution_count": 155,
   "id": "blond-advocate",
   "metadata": {},
   "outputs": [],
   "source": [
    "import pandas as pd\n",
    "import matplotlib.pyplot as plt\n",
    "import numpy as np\n",
    "from glob import glob\n",
    "import cv2\n",
    "#from sklearn.preprocessing import OneHotEncoder\n",
    "from sklearn.preprocessing import LabelEncoder\n",
    "import tensorflow as tf\n",
    "from sklearn.model_selection import train_test_split"
   ]
  },
  {
   "cell_type": "code",
   "execution_count": 156,
   "id": "invisible-profession",
   "metadata": {},
   "outputs": [],
   "source": [
    "#Grab the labels.csv file and load it into a pandas DataFrame\n",
    "labels_df = pd.read_csv(\"labels.csv\")\n",
    "#set constant for size of images when resizing\n",
    "IMAGE_SIZE = 224"
   ]
  },
  {
   "cell_type": "code",
   "execution_count": 157,
   "id": "revised-baltimore",
   "metadata": {},
   "outputs": [],
   "source": [
    "#Grab the location of all the images in the 'train' folder\n",
    "image_ids = glob('train/*')\n",
    "#create a new column in the labels DataFrame, whose elements\n",
    "#are the location of the images in the 'train' folder\n",
    "labels_df['filename'] = image_ids\n",
    "#create a numpy array from the elements in the filename\n",
    "#column of the labels DataFrame\n",
    "np_ids = labels_df['filename'].to_numpy()"
   ]
  },
  {
   "cell_type": "code",
   "execution_count": 158,
   "id": "touched-explanation",
   "metadata": {},
   "outputs": [],
   "source": [
    "#Create a LabelEncoder object\n",
    "label_enc = LabelEncoder()\n",
    "#Random Seed\n",
    "np.random.seed(seed=42)\n",
    "#Create a numpy array holding the name of the dog breeds\n",
    "labels_breed = labels_df['breed'].to_numpy()\n",
    "#Use the LabelEncoder instance to label encode the namne of\n",
    "#the dog breeds\n",
    "labels_breed = label_enc.fit_transform(labels_breed)"
   ]
  },
  {
   "cell_type": "code",
   "execution_count": 159,
   "id": "offensive-arthur",
   "metadata": {},
   "outputs": [],
   "source": [
    "#This function traverses a numpy array using\n",
    "#where each element in the numpy array\n",
    "#is a path to an image. The function reads the path\n",
    "#and grabs the image as an array of pixels, which is then\n",
    "#resized and appended to a list. That list is then used\n",
    "#create a new numpy array containing the resized pixel arrays\n",
    "#that is returned\n",
    "def read_dog_imgs(dog_np):\n",
    "    image_list = []\n",
    "    for i in range(dog_np.size):\n",
    "        path = dog_np[i]\n",
    "        img_arr = cv2.imread(path, cv2.IMREAD_GRAYSCALE)\n",
    "        img_arr = cv2.resize(img_arr,(IMAGE_SIZE,IMAGE_SIZE))\n",
    "        image_list.append(img_arr)\n",
    "    image_np = np.array(image_list).reshape(-1,IMAGE_SIZE,IMAGE_SIZE,1)\n",
    "    return image_np"
   ]
  },
  {
   "cell_type": "code",
   "execution_count": 160,
   "id": "rental-breath",
   "metadata": {},
   "outputs": [],
   "source": [
    "#Use the read_dog_imgs function to convert all dog images paths\n",
    "#into pixel_arrays\n",
    "np_ids = read_dog_imgs(np_ids)"
   ]
  },
  {
   "cell_type": "code",
   "execution_count": 161,
   "id": "expired-auditor",
   "metadata": {},
   "outputs": [
    {
     "name": "stdout",
     "output_type": "stream",
     "text": [
      "(10222, 224, 224, 1)\n"
     ]
    }
   ],
   "source": [
    "#Shape is of 10222 iamges, each of 224 by 224 pixels.\n",
    "print(np_ids.shape)"
   ]
  },
  {
   "cell_type": "code",
   "execution_count": 162,
   "id": "established-stack",
   "metadata": {},
   "outputs": [],
   "source": [
    "#Create the sets\n",
    "X_train, X_test = train_test_split(np_ids,test_size = 0.25,random_state=42)\n",
    "#y_train, y_test = train_test_split(labels_breed, test_size = 0.25, random_state=42)"
   ]
  },
  {
   "cell_type": "code",
   "execution_count": 163,
   "id": "geographic-street",
   "metadata": {},
   "outputs": [
    {
     "name": "stdout",
     "output_type": "stream",
     "text": [
      "(7666, 224, 224, 1)\n",
      "(2556, 224, 224, 1)\n"
     ]
    }
   ],
   "source": [
    "print(X_train.shape)\n",
    "print(X_test.shape)\n",
    "pritn()"
   ]
  },
  {
   "cell_type": "code",
   "execution_count": null,
   "id": "dirty-combine",
   "metadata": {},
   "outputs": [],
   "source": []
  }
 ],
 "metadata": {
  "kernelspec": {
   "display_name": "Python 3",
   "language": "python",
   "name": "python3"
  },
  "language_info": {
   "codemirror_mode": {
    "name": "ipython",
    "version": 3
   },
   "file_extension": ".py",
   "mimetype": "text/x-python",
   "name": "python",
   "nbconvert_exporter": "python",
   "pygments_lexer": "ipython3",
   "version": "3.8.0"
  }
 },
 "nbformat": 4,
 "nbformat_minor": 5
}
