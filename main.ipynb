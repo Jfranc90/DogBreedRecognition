{
 "cells": [
  {
   "cell_type": "code",
   "execution_count": 100,
   "id": "dominant-creation",
   "metadata": {},
   "outputs": [],
   "source": [
    "#import the required libraries\n",
    "import os\n",
    "import pandas as pd\n",
    "import numpy as np\n",
    "import cv2\n",
    "from glob import glob\n",
    "import tensorflow as tf\n",
    "from sklearn.model_selection import train_test_split"
   ]
  },
  {
   "cell_type": "code",
   "execution_count": 101,
   "id": "exciting-interaction",
   "metadata": {},
   "outputs": [],
   "source": [
    "#Parameters\n",
    "#image_size = \n",
    "#num_classes = 120\n",
    "#learning_rate = \n",
    "#batch = \n",
    "#epochs =\n",
    "\n",
    "#Read the CSV file and grab the number of breeds\n",
    "labels_df = pd.read_csv('labels.csv')\n",
    "#print(labels_df)\n",
    "breed = labels_df['breed'].unique()\n",
    "#print(breed)"
   ]
  },
  {
   "cell_type": "code",
   "execution_count": 105,
   "id": "varied-channel",
   "metadata": {},
   "outputs": [],
   "source": [
    "#Initialize dictionary where breeds are the key and the ids are the values\n",
    "breed2id = {name: i for i, name in enumerate(breed)}\n",
    "#print(breed2id)\n",
    "#Grab the names on the images in the 'train' folder and assign them to a list\n",
    "ids = glob('train/*')\n",
    "#print(ids)"
   ]
  },
  {
   "cell_type": "code",
   "execution_count": 103,
   "id": "thorough-repository",
   "metadata": {},
   "outputs": [],
   "source": [
    "# Traverse through the ids list and unwanted substrings in each image_id\n",
    "# Then, comparing the image_id to the id column in labels_df, we find the name of the\n",
    "# breed, assigning it to breed_name. Next, we use breed_name as the key in breed2id in\n",
    "# order to find the given value, and assign it to breed_id. Finally, we append breed_name\n",
    "# to the list of labels initialized before the for loop\n",
    "labels = []\n",
    "for image_id in ids:\n",
    "    image_id = image_id.replace(\"train\\\\\",\"\")\n",
    "    image_id = image_id.replace(\".jpg\",\"\")\n",
    "    breed_name = list(labels_df[labels_df.id == image_id]['breed'])[0]\n",
    "    #print(image_id, breed_name)\n",
    "    breed_id = breed2id[breed_name]\n",
    "    labels.append(breed_id)\n",
    "#print(labels)"
   ]
  },
  {
   "cell_type": "code",
   "execution_count": 96,
   "id": "precise-cisco",
   "metadata": {},
   "outputs": [],
   "source": [
    "#Split the dataset\n",
    "train_x, test_x = train_test_split(ids,test_size = 0.3, random_state=40)\n",
    "train_y, test_y = train_test_split(labels,test_size=0.3,random_state=40)"
   ]
  },
  {
   "cell_type": "code",
   "execution_count": null,
   "id": "eight-removal",
   "metadata": {},
   "outputs": [],
   "source": []
  }
 ],
 "metadata": {
  "kernelspec": {
   "display_name": "Python 3",
   "language": "python",
   "name": "python3"
  },
  "language_info": {
   "codemirror_mode": {
    "name": "ipython",
    "version": 3
   },
   "file_extension": ".py",
   "mimetype": "text/x-python",
   "name": "python",
   "nbconvert_exporter": "python",
   "pygments_lexer": "ipython3",
   "version": "3.8.0"
  }
 },
 "nbformat": 4,
 "nbformat_minor": 5
}
